{
  "nbformat": 4,
  "nbformat_minor": 0,
  "metadata": {
    "colab": {
      "provenance": [],
      "authorship_tag": "ABX9TyMZgFC2bjwmQ18KRct8d9M4",
      "include_colab_link": true
    },
    "kernelspec": {
      "name": "python3",
      "display_name": "Python 3"
    },
    "language_info": {
      "name": "python"
    }
  },
  "cells": [
    {
      "cell_type": "markdown",
      "metadata": {
        "id": "view-in-github",
        "colab_type": "text"
      },
      "source": [
        "<a href=\"https://colab.research.google.com/github/Cheetah-lhp/MachineLearning/blob/main/So_s%C3%A1nh_Softmax%2C_Perceptron%2C_Logistic_Regression.ipynb\" target=\"_parent\"><img src=\"https://colab.research.google.com/assets/colab-badge.svg\" alt=\"Open In Colab\"/></a>"
      ]
    },
    {
      "cell_type": "code",
      "execution_count": 13,
      "metadata": {
        "id": "2rOIITjt7LIT"
      },
      "outputs": [],
      "source": [
        "from sklearn.linear_model import LinearRegression, Ridge, Lasso, LogisticRegression, Perceptron\n",
        "from sklearn.metrics import accuracy_score\n",
        "from sklearn.datasets import fetch_openml\n",
        "from sklearn.multiclass import OneVsRestClassifier\n",
        "from sklearn.preprocessing import StandardScaler"
      ]
    },
    {
      "cell_type": "code",
      "source": [
        "mnist = fetch_openml('mnist_784', version =1, as_frame=False)\n",
        "X,y = mnist.data, mnist.target\n",
        "X_train,X_test = X[:8000], X[8001:10000]\n",
        "y_train, y_test = y[:8000], y[8001:10000]\n"
      ],
      "metadata": {
        "id": "TT2ro-537UiP"
      },
      "execution_count": 14,
      "outputs": []
    },
    {
      "cell_type": "code",
      "source": [
        "scaler = StandardScaler()\n",
        "X_train = scaler.fit_transform(X_train)\n",
        "X_test = scaler.transform(X_test)"
      ],
      "metadata": {
        "id": "sk_zSxPl-e3l"
      },
      "execution_count": 15,
      "outputs": []
    },
    {
      "cell_type": "code",
      "source": [
        "per = Perceptron()\n",
        "per.fit(X_train, y_train)\n",
        "print('accuracy =',per.score(X_test, y_test))\n",
        "\n",
        "#Logis = LogisticRegression(multi_class='ovr',penalty=None)\n",
        "Logis = OneVsRestClassifier(LogisticRegression(penalty=None, max_iter=1000))\n",
        "Logis.fit(X_train, y_train)\n",
        "print('accuracy =',Logis.score(X_test, y_test))\n",
        "\n",
        "Sofmax = LogisticRegression(multi_class='multinomial')\n",
        "Sofmax.fit(X_train, y_train)\n",
        "print('accuracy =',Sofmax.score(X_test, y_test))"
      ],
      "metadata": {
        "colab": {
          "base_uri": "https://localhost:8080/"
        },
        "id": "D6ExYbxE7XwX",
        "outputId": "f268f904-8bf1-4c1a-885f-799300461b3c"
      },
      "execution_count": 16,
      "outputs": [
        {
          "output_type": "stream",
          "name": "stdout",
          "text": [
            "accuracy = 0.8554277138569285\n",
            "accuracy = 0.8489244622311155\n"
          ]
        },
        {
          "output_type": "stream",
          "name": "stderr",
          "text": [
            "/usr/local/lib/python3.11/dist-packages/sklearn/linear_model/_logistic.py:1247: FutureWarning: 'multi_class' was deprecated in version 1.5 and will be removed in 1.7. From then on, it will always use 'multinomial'. Leave it to its default value to avoid this warning.\n",
            "  warnings.warn(\n"
          ]
        },
        {
          "output_type": "stream",
          "name": "stdout",
          "text": [
            "accuracy = 0.8834417208604303\n"
          ]
        }
      ]
    },
    {
      "cell_type": "code",
      "source": [
        "import matplotlib.pyplot as plt\n",
        "import numpy as np\n",
        "\n",
        "# Assuming you have already trained the models and calculated their accuracies:\n",
        "per_acc = per.score(X_test, y_test)\n",
        "logis_acc = Logis.score(X_test, y_test)\n",
        "softmax_acc = Sofmax.score(X_test, y_test)\n",
        "\n",
        "# Create a list of algorithm names\n",
        "algorithms = ['Perceptron', 'Logistic (OneVsRest)', 'Logistic (Softmax)']\n",
        "\n",
        "# Create a list of accuracies for each algorithm\n",
        "accuracies = [per_acc, logis_acc, softmax_acc]\n",
        "\n",
        "# Create the bar chart\n",
        "plt.bar(algorithms, accuracies, color=['blue', 'green', 'red'], alpha=0.7)\n",
        "\n",
        "# Customize the chart\n",
        "plt.ylabel('Accuracy')\n",
        "plt.title('Accuracy Comparison of Algorithms')\n",
        "plt.ylim([0, 1])  # Set y-axis limits for better visualization\n",
        "\n",
        "plt.show()"
      ],
      "metadata": {
        "colab": {
          "base_uri": "https://localhost:8080/",
          "height": 452
        },
        "id": "rGwwZ_EK__Cn",
        "outputId": "dc2f7039-b01d-4dbf-e788-d039273c6062"
      },
      "execution_count": 18,
      "outputs": [
        {
          "output_type": "display_data",
          "data": {
            "text/plain": [
              "<Figure size 640x480 with 1 Axes>"
            ],
            "image/png": "[encoded data removed]"
          },
          "metadata": {}
        }
      ]
    }
  ]
}